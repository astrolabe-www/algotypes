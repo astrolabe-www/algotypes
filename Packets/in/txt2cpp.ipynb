{
 "cells": [
  {
   "cell_type": "code",
   "execution_count": 1,
   "metadata": {},
   "outputs": [],
   "source": [
    "with open(\"data_20220402-2248.txt\", \"r\") as file_in:\n",
    "   byte_stream_string = file_in.read()"
   ]
  },
  {
   "cell_type": "code",
   "execution_count": 2,
   "metadata": {},
   "outputs": [],
   "source": [
    "byte_string_array = [byte_stream_string[i:i+2] for i in range(0, len(byte_stream_string), 2)]"
   ]
  },
  {
   "cell_type": "code",
   "execution_count": 3,
   "metadata": {},
   "outputs": [],
   "source": [
    "data_size = 4096\n",
    "\n",
    "with open('data_20220402-2248.h', 'w') as file_out:\n",
    "    file_out.write(\"const int TEST_IN_SIZE = %s;\\n\" % data_size)\n",
    "    file_out.write(\"const uint8_t TEST_IN[TEST_IN_SIZE] = {\\n\")\n",
    "    for b in byte_string_array[:(data_size - 1)]:\n",
    "        file_out.write(\"  0x%s,\\n\" % b)\n",
    "    file_out.write(\"  0x%s\\n\" % byte_string_array[(data_size - 1)])\n",
    "    file_out.write(\"};\\n\")"
   ]
  },
  {
   "cell_type": "code",
   "execution_count": 5,
   "metadata": {},
   "outputs": [],
   "source": [
    "byte_int_array = [int(b, 16) for b in byte_string_array[:data_size]]\n",
    "\n",
    "with open('data_20220402-2248.raw', 'wb') as file_out:\n",
    "    file_out.write(bytes(byte_int_array))"
   ]
  }
 ],
 "metadata": {
  "interpreter": {
   "hash": "aee8b7b246df8f9039afb4144a1f6fd8d2ca17a180786b69acc140d282b71a49"
  },
  "kernelspec": {
   "display_name": "Python 3.9.2 64-bit",
   "language": "python",
   "name": "python3"
  },
  "language_info": {
   "codemirror_mode": {
    "name": "ipython",
    "version": 3
   },
   "file_extension": ".py",
   "mimetype": "text/x-python",
   "name": "python",
   "nbconvert_exporter": "python",
   "pygments_lexer": "ipython3",
   "version": "3.9.2"
  },
  "orig_nbformat": 4
 },
 "nbformat": 4,
 "nbformat_minor": 2
}
